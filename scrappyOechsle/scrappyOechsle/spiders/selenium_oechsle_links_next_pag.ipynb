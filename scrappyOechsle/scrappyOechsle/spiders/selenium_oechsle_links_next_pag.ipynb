{
 "cells": [
  {
   "cell_type": "code",
   "execution_count": 118,
   "metadata": {},
   "outputs": [],
   "source": [
    "from selenium import webdriver\n",
    "from time import sleep\n",
    "import pandas as pd\n",
    "import numpy as np\n",
    "\n",
    "driver = webdriver.Chrome(\"chromedriver.exe\")"
   ]
  },
  {
   "cell_type": "code",
   "execution_count": 166,
   "metadata": {},
   "outputs": [],
   "source": [
    "# funcion para avnzar página\n",
    "def next_page(pos,driver):\n",
    "    driver.find_elements_by_xpath(\"//*[@id='pagination']/ul/li[\"+str(pos)+\"]/a\")[0].click()\n",
    "    sleep(5)    "
   ]
  },
  {
   "cell_type": "code",
   "execution_count": 182,
   "metadata": {},
   "outputs": [
    {
     "name": "stdout",
     "output_type": "stream",
     "text": [
      "Mostrando page=  1  de un total de  45\n",
      "Mostrando page=  2  de un total de  45\n",
      "Mostrando page=  3  de un total de  45\n",
      "Mostrando page=  4  de un total de  45\n",
      "Mostrando page=  5  de un total de  45\n",
      "Mostrando page=  6  de un total de  45\n",
      "Mostrando page=  7  de un total de  45\n",
      "Mostrando page=  8  de un total de  45\n",
      "Mostrando page=  9  de un total de  45\n",
      "Mostrando page=  10  de un total de  45\n",
      "Mostrando page=  11  de un total de  45\n",
      "Mostrando page=  12  de un total de  45\n",
      "Mostrando page=  13  de un total de  45\n",
      "Mostrando page=  14  de un total de  45\n",
      "Mostrando page=  15  de un total de  45\n",
      "Mostrando page=  16  de un total de  45\n",
      "Mostrando page=  17  de un total de  45\n",
      "Mostrando page=  18  de un total de  45\n",
      "Mostrando page=  19  de un total de  45\n",
      "Mostrando page=  20  de un total de  45\n",
      "Mostrando page=  21  de un total de  45\n",
      "Mostrando page=  22  de un total de  45\n",
      "Mostrando page=  23  de un total de  45\n",
      "Mostrando page=  24  de un total de  45\n",
      "Mostrando page=  25  de un total de  45\n",
      "Mostrando page=  26  de un total de  45\n",
      "Mostrando page=  27  de un total de  45\n",
      "Mostrando page=  28  de un total de  45\n",
      "Mostrando page=  29  de un total de  45\n",
      "Mostrando page=  30  de un total de  45\n",
      "Mostrando page=  31  de un total de  45\n",
      "Mostrando page=  32  de un total de  45\n",
      "Mostrando page=  33  de un total de  45\n",
      "Mostrando page=  34  de un total de  45\n",
      "Mostrando page=  35  de un total de  45\n",
      "Mostrando page=  36  de un total de  45\n",
      "Mostrando page=  37  de un total de  45\n",
      "Mostrando page=  38  de un total de  45\n",
      "Mostrando page=  39  de un total de  45\n",
      "Mostrando page=  40  de un total de  45\n",
      "Mostrando page=  41  de un total de  45\n",
      "Mostrando page=  42  de un total de  45\n",
      "Mostrando page=  43  de un total de  45\n",
      "Mostrando page=  44  de un total de  45\n",
      "Mostrando page=  45  de un total de  45\n"
     ]
    }
   ],
   "source": [
    "driver.get(\"https://www.oechsle.pe/tecnologia/computo/laptop\") #Link raiz\n",
    "sleep(6)\n",
    "cont_page_actual = 1 \n",
    "cont_page_total = 45 #51 # la página no tiene más datos\n",
    "\n",
    "#print('Mostrando page= ' ,str(cont_page_actual), ' de un total de', str(cont_page_total))\n",
    "\n",
    "# empezamos a extraer los links desde la página 2\n",
    "list_link_final = []\n",
    "\n",
    "while cont_page_actual <= cont_page_total:\n",
    "\n",
    "    print('Mostrando page= ',str(cont_page_actual),' de un total de ',str(cont_page_total))\n",
    "\n",
    "    link = driver.find_elements_by_xpath(\"//div[@class='container-image']/a\")\n",
    "    list_link=[links.get_attribute(\"href\") for links in link]\n",
    "    list_link_final.extend(list_link)\n",
    "\n",
    "    if cont_page_actual == cont_page_total:\n",
    "        break\n",
    "\n",
    "    # Código para avanzar a la siguiente página\n",
    "    # la página varia de posicion por eso cambia en número\n",
    "    if cont_page_actual < 3:\n",
    "        next_page(7,driver)\n",
    "    elif cont_page_actual == 3 or cont_page_actual==43:\n",
    "        next_page(8,driver)\n",
    "    elif cont_page_actual == 44:\n",
    "        next_page(7,driver)\n",
    "    else:\n",
    "        next_page(9,driver)\n",
    "    \n",
    "    cont_page_actual += 1\n",
    "    \n",
    "df = pd.DataFrame({'list_link':list_link_final}) \n",
    "#df.to_csv('links_next_page.csv', index = False) \n",
    "#print('------------------------')\n",
    "#print('Archivo links_next_page.csv descargado')\n"
   ]
  },
  {
   "cell_type": "code",
   "execution_count": 183,
   "metadata": {},
   "outputs": [
    {
     "name": "stdout",
     "output_type": "stream",
     "text": [
      "------------------------\n",
      "Archivo links_next_page.csv descargado\n"
     ]
    }
   ],
   "source": [
    "df.to_csv('links_totales.csv', index = False) \n",
    "print('------------------------')\n",
    "print('Archivo links_next_page.csv descargado')"
   ]
  }
 ],
 "metadata": {
  "interpreter": {
   "hash": "6e6e9bc5c8619dfe6af9593f34c142f69bf62408a90123fe2775794dc9839fd8"
  },
  "kernelspec": {
   "display_name": "Python 3.7.0 ('FinalHackSpacevirtual')",
   "language": "python",
   "name": "python3"
  },
  "language_info": {
   "codemirror_mode": {
    "name": "ipython",
    "version": 3
   },
   "file_extension": ".py",
   "mimetype": "text/x-python",
   "name": "python",
   "nbconvert_exporter": "python",
   "pygments_lexer": "ipython3",
   "version": "3.7.0"
  },
  "orig_nbformat": 4
 },
 "nbformat": 4,
 "nbformat_minor": 2
}
